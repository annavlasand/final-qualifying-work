{
 "cells": [
  {
   "cell_type": "markdown",
   "id": "19ba4ca0",
   "metadata": {},
   "source": [
    "# Классификация"
   ]
  },
  {
   "cell_type": "markdown",
   "id": "66e57480",
   "metadata": {},
   "source": [
    "Так как в задании не предоставлена разметка данных, при решении реальной задачи ее необходимо запросить у заказчика.\n",
    "\n",
    "В этом проекте мы проводим классификацию исходя из гипотезы, что заказчик предоставил нам корректные данные по номерам ОКПД"
   ]
  },
  {
   "cell_type": "code",
   "execution_count": 1,
   "id": "9d06fea1",
   "metadata": {},
   "outputs": [],
   "source": [
    "import pandas as pd\n",
    "import numpy as np\n",
    "import matplotlib.pyplot as plt"
   ]
  },
  {
   "cell_type": "code",
   "execution_count": 2,
   "id": "5abb4990",
   "metadata": {},
   "outputs": [],
   "source": [
    "import warnings\n",
    "warnings.filterwarnings('ignore')"
   ]
  },
  {
   "cell_type": "code",
   "execution_count": 3,
   "id": "a59d129b",
   "metadata": {},
   "outputs": [],
   "source": [
    "df_nlp = pd.read_csv(r'df_nlp.csv')"
   ]
  },
  {
   "cell_type": "code",
   "execution_count": 4,
   "id": "c6e327bf",
   "metadata": {
    "scrolled": true
   },
   "outputs": [
    {
     "data": {
      "text/html": [
       "<div>\n",
       "<style scoped>\n",
       "    .dataframe tbody tr th:only-of-type {\n",
       "        vertical-align: middle;\n",
       "    }\n",
       "\n",
       "    .dataframe tbody tr th {\n",
       "        vertical-align: top;\n",
       "    }\n",
       "\n",
       "    .dataframe thead th {\n",
       "        text-align: right;\n",
       "    }\n",
       "</style>\n",
       "<table border=\"1\" class=\"dataframe\">\n",
       "  <thead>\n",
       "    <tr style=\"text-align: right;\">\n",
       "      <th></th>\n",
       "      <th>OBJECT_NAME</th>\n",
       "      <th>OKPD_NUM</th>\n",
       "      <th>CLEAN_OBJECT_NAME</th>\n",
       "      <th>STEM_OBJECT_NAME</th>\n",
       "    </tr>\n",
       "  </thead>\n",
       "  <tbody>\n",
       "    <tr>\n",
       "      <th>0</th>\n",
       "      <td>Поставка металлической мебели</td>\n",
       "      <td>31.0</td>\n",
       "      <td>поставка металлической мебели</td>\n",
       "      <td>['поставк', 'металлическ', 'мебел']</td>\n",
       "    </tr>\n",
       "    <tr>\n",
       "      <th>1</th>\n",
       "      <td>поставка офисных кресел</td>\n",
       "      <td>31.0</td>\n",
       "      <td>поставка офисных кресел</td>\n",
       "      <td>['поставк', 'офисн', 'кресел']</td>\n",
       "    </tr>\n",
       "    <tr>\n",
       "      <th>2</th>\n",
       "      <td>прочая закупка услуг (услуги по монтажу и пуск...</td>\n",
       "      <td>43.2</td>\n",
       "      <td>прочая закупка услуг  услуги по монтажу и пуск...</td>\n",
       "      <td>['проч', 'закупк', 'услуг', 'услуг', 'монтаж',...</td>\n",
       "    </tr>\n",
       "    <tr>\n",
       "      <th>3</th>\n",
       "      <td>прочая закупка товара (стулья ученические)</td>\n",
       "      <td>31.0</td>\n",
       "      <td>прочая закупка товара  стулья ученические</td>\n",
       "      <td>['проч', 'закупк', 'товар', 'стул', 'ученическ']</td>\n",
       "    </tr>\n",
       "    <tr>\n",
       "      <th>4</th>\n",
       "      <td>выполнение работ по текущему ремонту заполнени...</td>\n",
       "      <td>43.3</td>\n",
       "      <td>выполнение работ по текущему ремонту заполнени...</td>\n",
       "      <td>['выполнен', 'работ', 'текущ', 'ремонт', 'запо...</td>\n",
       "    </tr>\n",
       "    <tr>\n",
       "      <th>...</th>\n",
       "      <td>...</td>\n",
       "      <td>...</td>\n",
       "      <td>...</td>\n",
       "      <td>...</td>\n",
       "    </tr>\n",
       "    <tr>\n",
       "      <th>896521</th>\n",
       "      <td>Поставка хозяйственных товаров для нужд ГБДОУ ...</td>\n",
       "      <td>13.9</td>\n",
       "      <td>поставка хозяйственных товаров для нужд гбдоу ...</td>\n",
       "      <td>['поставк', 'хозяйствен', 'товар', 'нужд', 'гб...</td>\n",
       "    </tr>\n",
       "    <tr>\n",
       "      <th>896522</th>\n",
       "      <td>Поставка сантехники для ГБДОУ детского сада № ...</td>\n",
       "      <td>23.4</td>\n",
       "      <td>поставка сантехники для гбдоу детского сада   ...</td>\n",
       "      <td>['поставк', 'сантехник', 'гбдо', 'детск', 'сад...</td>\n",
       "    </tr>\n",
       "    <tr>\n",
       "      <th>896523</th>\n",
       "      <td>Поставка мебели для пищеблока в ГБДОУ детский ...</td>\n",
       "      <td>25.9</td>\n",
       "      <td>поставка мебели для пищеблока в гбдоу детский ...</td>\n",
       "      <td>['поставк', 'мебел', 'пищеблок', 'гбдо', 'детс...</td>\n",
       "    </tr>\n",
       "    <tr>\n",
       "      <th>896524</th>\n",
       "      <td>Поставка мебели для пищеблока в ГБДОУ детский ...</td>\n",
       "      <td>31.0</td>\n",
       "      <td>поставка мебели для пищеблока в гбдоу детский ...</td>\n",
       "      <td>['поставк', 'мебел', 'пищеблок', 'гбдо', 'детс...</td>\n",
       "    </tr>\n",
       "    <tr>\n",
       "      <th>896525</th>\n",
       "      <td>Выполнение работ по текущему ремонту медблока ...</td>\n",
       "      <td>43.3</td>\n",
       "      <td>выполнение работ по текущему ремонту медблока ...</td>\n",
       "      <td>['выполнен', 'работ', 'текущ', 'ремонт', 'медб...</td>\n",
       "    </tr>\n",
       "  </tbody>\n",
       "</table>\n",
       "<p>896526 rows × 4 columns</p>\n",
       "</div>"
      ],
      "text/plain": [
       "                                              OBJECT_NAME  OKPD_NUM  \\\n",
       "0                           Поставка металлической мебели      31.0   \n",
       "1                                 поставка офисных кресел      31.0   \n",
       "2       прочая закупка услуг (услуги по монтажу и пуск...      43.2   \n",
       "3              прочая закупка товара (стулья ученические)      31.0   \n",
       "4       выполнение работ по текущему ремонту заполнени...      43.3   \n",
       "...                                                   ...       ...   \n",
       "896521  Поставка хозяйственных товаров для нужд ГБДОУ ...      13.9   \n",
       "896522  Поставка сантехники для ГБДОУ детского сада № ...      23.4   \n",
       "896523  Поставка мебели для пищеблока в ГБДОУ детский ...      25.9   \n",
       "896524  Поставка мебели для пищеблока в ГБДОУ детский ...      31.0   \n",
       "896525  Выполнение работ по текущему ремонту медблока ...      43.3   \n",
       "\n",
       "                                        CLEAN_OBJECT_NAME  \\\n",
       "0                           поставка металлической мебели   \n",
       "1                                 поставка офисных кресел   \n",
       "2       прочая закупка услуг  услуги по монтажу и пуск...   \n",
       "3              прочая закупка товара  стулья ученические    \n",
       "4       выполнение работ по текущему ремонту заполнени...   \n",
       "...                                                   ...   \n",
       "896521  поставка хозяйственных товаров для нужд гбдоу ...   \n",
       "896522  поставка сантехники для гбдоу детского сада   ...   \n",
       "896523  поставка мебели для пищеблока в гбдоу детский ...   \n",
       "896524  поставка мебели для пищеблока в гбдоу детский ...   \n",
       "896525  выполнение работ по текущему ремонту медблока ...   \n",
       "\n",
       "                                         STEM_OBJECT_NAME  \n",
       "0                     ['поставк', 'металлическ', 'мебел']  \n",
       "1                          ['поставк', 'офисн', 'кресел']  \n",
       "2       ['проч', 'закупк', 'услуг', 'услуг', 'монтаж',...  \n",
       "3        ['проч', 'закупк', 'товар', 'стул', 'ученическ']  \n",
       "4       ['выполнен', 'работ', 'текущ', 'ремонт', 'запо...  \n",
       "...                                                   ...  \n",
       "896521  ['поставк', 'хозяйствен', 'товар', 'нужд', 'гб...  \n",
       "896522  ['поставк', 'сантехник', 'гбдо', 'детск', 'сад...  \n",
       "896523  ['поставк', 'мебел', 'пищеблок', 'гбдо', 'детс...  \n",
       "896524  ['поставк', 'мебел', 'пищеблок', 'гбдо', 'детс...  \n",
       "896525  ['выполнен', 'работ', 'текущ', 'ремонт', 'медб...  \n",
       "\n",
       "[896526 rows x 4 columns]"
      ]
     },
     "execution_count": 4,
     "metadata": {},
     "output_type": "execute_result"
    }
   ],
   "source": [
    "df_nlp"
   ]
  },
  {
   "cell_type": "code",
   "execution_count": 5,
   "id": "f1afac0b",
   "metadata": {},
   "outputs": [
    {
     "data": {
      "text/plain": [
       "OBJECT_NAME           object\n",
       "OKPD_NUM             float64\n",
       "CLEAN_OBJECT_NAME     object\n",
       "STEM_OBJECT_NAME      object\n",
       "dtype: object"
      ]
     },
     "execution_count": 5,
     "metadata": {},
     "output_type": "execute_result"
    }
   ],
   "source": [
    "df_nlp.dtypes"
   ]
  },
  {
   "cell_type": "code",
   "execution_count": 6,
   "id": "119071ec",
   "metadata": {},
   "outputs": [],
   "source": [
    "df_nlp['OKPD_NUM']  = df_nlp['OKPD_NUM'].astype('string')"
   ]
  },
  {
   "cell_type": "code",
   "execution_count": 7,
   "id": "36325041",
   "metadata": {},
   "outputs": [],
   "source": [
    "def get_group(value):    \n",
    "    if value in ('41.2', '43.1', '43.3', '43.9'):  \n",
    "        return 'Строительно-монтажные работы'\n",
    "    elif value in ('41.1', '71.1'):  \n",
    "        return 'Проектно-изыскательские работы'\n",
    "    elif value in ('43.2', '42.2'):  \n",
    "        return 'Подключение коммуникаций'\n",
    "    else:\n",
    "        return 'Прочие'"
   ]
  },
  {
   "cell_type": "code",
   "execution_count": 8,
   "id": "2204a225",
   "metadata": {},
   "outputs": [
    {
     "data": {
      "text/html": [
       "<div>\n",
       "<style scoped>\n",
       "    .dataframe tbody tr th:only-of-type {\n",
       "        vertical-align: middle;\n",
       "    }\n",
       "\n",
       "    .dataframe tbody tr th {\n",
       "        vertical-align: top;\n",
       "    }\n",
       "\n",
       "    .dataframe thead th {\n",
       "        text-align: right;\n",
       "    }\n",
       "</style>\n",
       "<table border=\"1\" class=\"dataframe\">\n",
       "  <thead>\n",
       "    <tr style=\"text-align: right;\">\n",
       "      <th></th>\n",
       "      <th>OBJECT_NAME</th>\n",
       "      <th>OKPD_NUM</th>\n",
       "      <th>CLEAN_OBJECT_NAME</th>\n",
       "      <th>STEM_OBJECT_NAME</th>\n",
       "      <th>GROUP</th>\n",
       "    </tr>\n",
       "  </thead>\n",
       "  <tbody>\n",
       "    <tr>\n",
       "      <th>0</th>\n",
       "      <td>Поставка металлической мебели</td>\n",
       "      <td>31.0</td>\n",
       "      <td>поставка металлической мебели</td>\n",
       "      <td>['поставк', 'металлическ', 'мебел']</td>\n",
       "      <td>Прочие</td>\n",
       "    </tr>\n",
       "    <tr>\n",
       "      <th>1</th>\n",
       "      <td>поставка офисных кресел</td>\n",
       "      <td>31.0</td>\n",
       "      <td>поставка офисных кресел</td>\n",
       "      <td>['поставк', 'офисн', 'кресел']</td>\n",
       "      <td>Прочие</td>\n",
       "    </tr>\n",
       "    <tr>\n",
       "      <th>2</th>\n",
       "      <td>прочая закупка услуг (услуги по монтажу и пуск...</td>\n",
       "      <td>43.2</td>\n",
       "      <td>прочая закупка услуг  услуги по монтажу и пуск...</td>\n",
       "      <td>['проч', 'закупк', 'услуг', 'услуг', 'монтаж',...</td>\n",
       "      <td>Подключение коммуникаций</td>\n",
       "    </tr>\n",
       "    <tr>\n",
       "      <th>3</th>\n",
       "      <td>прочая закупка товара (стулья ученические)</td>\n",
       "      <td>31.0</td>\n",
       "      <td>прочая закупка товара  стулья ученические</td>\n",
       "      <td>['проч', 'закупк', 'товар', 'стул', 'ученическ']</td>\n",
       "      <td>Прочие</td>\n",
       "    </tr>\n",
       "    <tr>\n",
       "      <th>4</th>\n",
       "      <td>выполнение работ по текущему ремонту заполнени...</td>\n",
       "      <td>43.3</td>\n",
       "      <td>выполнение работ по текущему ремонту заполнени...</td>\n",
       "      <td>['выполнен', 'работ', 'текущ', 'ремонт', 'запо...</td>\n",
       "      <td>Строительно-монтажные работы</td>\n",
       "    </tr>\n",
       "  </tbody>\n",
       "</table>\n",
       "</div>"
      ],
      "text/plain": [
       "                                         OBJECT_NAME OKPD_NUM  \\\n",
       "0                      Поставка металлической мебели     31.0   \n",
       "1                            поставка офисных кресел     31.0   \n",
       "2  прочая закупка услуг (услуги по монтажу и пуск...     43.2   \n",
       "3         прочая закупка товара (стулья ученические)     31.0   \n",
       "4  выполнение работ по текущему ремонту заполнени...     43.3   \n",
       "\n",
       "                                   CLEAN_OBJECT_NAME  \\\n",
       "0                      поставка металлической мебели   \n",
       "1                            поставка офисных кресел   \n",
       "2  прочая закупка услуг  услуги по монтажу и пуск...   \n",
       "3         прочая закупка товара  стулья ученические    \n",
       "4  выполнение работ по текущему ремонту заполнени...   \n",
       "\n",
       "                                    STEM_OBJECT_NAME  \\\n",
       "0                ['поставк', 'металлическ', 'мебел']   \n",
       "1                     ['поставк', 'офисн', 'кресел']   \n",
       "2  ['проч', 'закупк', 'услуг', 'услуг', 'монтаж',...   \n",
       "3   ['проч', 'закупк', 'товар', 'стул', 'ученическ']   \n",
       "4  ['выполнен', 'работ', 'текущ', 'ремонт', 'запо...   \n",
       "\n",
       "                          GROUP  \n",
       "0                        Прочие  \n",
       "1                        Прочие  \n",
       "2      Подключение коммуникаций  \n",
       "3                        Прочие  \n",
       "4  Строительно-монтажные работы  "
      ]
     },
     "execution_count": 8,
     "metadata": {},
     "output_type": "execute_result"
    }
   ],
   "source": [
    "df_nlp['GROUP'] = df_nlp['OKPD_NUM'].apply(lambda x: get_group(x))\n",
    "df_nlp.head()"
   ]
  },
  {
   "cell_type": "markdown",
   "id": "6a68962e",
   "metadata": {},
   "source": [
    "### Подготовка обучающего и тестового набора данных"
   ]
  },
  {
   "cell_type": "code",
   "execution_count": 9,
   "id": "75e524a3",
   "metadata": {},
   "outputs": [],
   "source": [
    "from sklearn.model_selection import train_test_split\n",
    "X_train, X_test, y_train, y_test = train_test_split(df_nlp ['STEM_OBJECT_NAME'], df_nlp ['GROUP'], test_size=0.25, random_state=42)"
   ]
  },
  {
   "cell_type": "markdown",
   "id": "68d7b0ad",
   "metadata": {},
   "source": [
    "### Импорт необходимых библиотек scikit-learn"
   ]
  },
  {
   "cell_type": "code",
   "execution_count": 10,
   "id": "76111abe",
   "metadata": {},
   "outputs": [],
   "source": [
    "from sklearn.pipeline import Pipeline\n",
    "# pipeline позволяет объединить в один блок трансформер и модель, что упрощает написание кода и улучшает его читаемость\n",
    "from sklearn.feature_extraction.text import TfidfVectorizer\n",
    "# TfidfVectorizer преобразует тексты в числовые вектора, отражающие важность использования каждого слова из некоторого набора слов (количество слов набора определяет размерность вектора) в каждом тексте\n",
    "from sklearn.linear_model import LogisticRegression\n",
    "from sklearn import metrics\n",
    "# набор метрик для оценки качества модели\n",
    "from sklearn.model_selection import GridSearchCV\n",
    "# модуль поиска по сетке параметров"
   ]
  },
  {
   "cell_type": "code",
   "execution_count": 11,
   "id": "ce4cde6e",
   "metadata": {},
   "outputs": [],
   "source": [
    "from sklearn.metrics import confusion_matrix, ConfusionMatrixDisplay"
   ]
  },
  {
   "cell_type": "markdown",
   "id": "50abdb47",
   "metadata": {},
   "source": [
    "### Логистическая регрессия "
   ]
  },
  {
   "cell_type": "code",
   "execution_count": 12,
   "id": "fbddf79f",
   "metadata": {},
   "outputs": [],
   "source": [
    "logreg_ppl_clf = Pipeline([\n",
    "    ('tfidf', TfidfVectorizer()),\n",
    "    ('logreg_clf', LogisticRegression())])"
   ]
  },
  {
   "cell_type": "code",
   "execution_count": 13,
   "id": "93046ff9",
   "metadata": {},
   "outputs": [
    {
     "data": {
      "text/html": [
       "<style>#sk-container-id-1 {color: black;background-color: white;}#sk-container-id-1 pre{padding: 0;}#sk-container-id-1 div.sk-toggleable {background-color: white;}#sk-container-id-1 label.sk-toggleable__label {cursor: pointer;display: block;width: 100%;margin-bottom: 0;padding: 0.3em;box-sizing: border-box;text-align: center;}#sk-container-id-1 label.sk-toggleable__label-arrow:before {content: \"▸\";float: left;margin-right: 0.25em;color: #696969;}#sk-container-id-1 label.sk-toggleable__label-arrow:hover:before {color: black;}#sk-container-id-1 div.sk-estimator:hover label.sk-toggleable__label-arrow:before {color: black;}#sk-container-id-1 div.sk-toggleable__content {max-height: 0;max-width: 0;overflow: hidden;text-align: left;background-color: #f0f8ff;}#sk-container-id-1 div.sk-toggleable__content pre {margin: 0.2em;color: black;border-radius: 0.25em;background-color: #f0f8ff;}#sk-container-id-1 input.sk-toggleable__control:checked~div.sk-toggleable__content {max-height: 200px;max-width: 100%;overflow: auto;}#sk-container-id-1 input.sk-toggleable__control:checked~label.sk-toggleable__label-arrow:before {content: \"▾\";}#sk-container-id-1 div.sk-estimator input.sk-toggleable__control:checked~label.sk-toggleable__label {background-color: #d4ebff;}#sk-container-id-1 div.sk-label input.sk-toggleable__control:checked~label.sk-toggleable__label {background-color: #d4ebff;}#sk-container-id-1 input.sk-hidden--visually {border: 0;clip: rect(1px 1px 1px 1px);clip: rect(1px, 1px, 1px, 1px);height: 1px;margin: -1px;overflow: hidden;padding: 0;position: absolute;width: 1px;}#sk-container-id-1 div.sk-estimator {font-family: monospace;background-color: #f0f8ff;border: 1px dotted black;border-radius: 0.25em;box-sizing: border-box;margin-bottom: 0.5em;}#sk-container-id-1 div.sk-estimator:hover {background-color: #d4ebff;}#sk-container-id-1 div.sk-parallel-item::after {content: \"\";width: 100%;border-bottom: 1px solid gray;flex-grow: 1;}#sk-container-id-1 div.sk-label:hover label.sk-toggleable__label {background-color: #d4ebff;}#sk-container-id-1 div.sk-serial::before {content: \"\";position: absolute;border-left: 1px solid gray;box-sizing: border-box;top: 0;bottom: 0;left: 50%;z-index: 0;}#sk-container-id-1 div.sk-serial {display: flex;flex-direction: column;align-items: center;background-color: white;padding-right: 0.2em;padding-left: 0.2em;position: relative;}#sk-container-id-1 div.sk-item {position: relative;z-index: 1;}#sk-container-id-1 div.sk-parallel {display: flex;align-items: stretch;justify-content: center;background-color: white;position: relative;}#sk-container-id-1 div.sk-item::before, #sk-container-id-1 div.sk-parallel-item::before {content: \"\";position: absolute;border-left: 1px solid gray;box-sizing: border-box;top: 0;bottom: 0;left: 50%;z-index: -1;}#sk-container-id-1 div.sk-parallel-item {display: flex;flex-direction: column;z-index: 1;position: relative;background-color: white;}#sk-container-id-1 div.sk-parallel-item:first-child::after {align-self: flex-end;width: 50%;}#sk-container-id-1 div.sk-parallel-item:last-child::after {align-self: flex-start;width: 50%;}#sk-container-id-1 div.sk-parallel-item:only-child::after {width: 0;}#sk-container-id-1 div.sk-dashed-wrapped {border: 1px dashed gray;margin: 0 0.4em 0.5em 0.4em;box-sizing: border-box;padding-bottom: 0.4em;background-color: white;}#sk-container-id-1 div.sk-label label {font-family: monospace;font-weight: bold;display: inline-block;line-height: 1.2em;}#sk-container-id-1 div.sk-label-container {text-align: center;}#sk-container-id-1 div.sk-container {/* jupyter's `normalize.less` sets `[hidden] { display: none; }` but bootstrap.min.css set `[hidden] { display: none !important; }` so we also need the `!important` here to be able to override the default hidden behavior on the sphinx rendered scikit-learn.org. See: https://github.com/scikit-learn/scikit-learn/issues/21755 */display: inline-block !important;position: relative;}#sk-container-id-1 div.sk-text-repr-fallback {display: none;}</style><div id=\"sk-container-id-1\" class=\"sk-top-container\"><div class=\"sk-text-repr-fallback\"><pre>Pipeline(steps=[(&#x27;tfidf&#x27;, TfidfVectorizer()),\n",
       "                (&#x27;logreg_clf&#x27;, LogisticRegression())])</pre><b>In a Jupyter environment, please rerun this cell to show the HTML representation or trust the notebook. <br />On GitHub, the HTML representation is unable to render, please try loading this page with nbviewer.org.</b></div><div class=\"sk-container\" hidden><div class=\"sk-item sk-dashed-wrapped\"><div class=\"sk-label-container\"><div class=\"sk-label sk-toggleable\"><input class=\"sk-toggleable__control sk-hidden--visually\" id=\"sk-estimator-id-1\" type=\"checkbox\" ><label for=\"sk-estimator-id-1\" class=\"sk-toggleable__label sk-toggleable__label-arrow\">Pipeline</label><div class=\"sk-toggleable__content\"><pre>Pipeline(steps=[(&#x27;tfidf&#x27;, TfidfVectorizer()),\n",
       "                (&#x27;logreg_clf&#x27;, LogisticRegression())])</pre></div></div></div><div class=\"sk-serial\"><div class=\"sk-item\"><div class=\"sk-estimator sk-toggleable\"><input class=\"sk-toggleable__control sk-hidden--visually\" id=\"sk-estimator-id-2\" type=\"checkbox\" ><label for=\"sk-estimator-id-2\" class=\"sk-toggleable__label sk-toggleable__label-arrow\">TfidfVectorizer</label><div class=\"sk-toggleable__content\"><pre>TfidfVectorizer()</pre></div></div></div><div class=\"sk-item\"><div class=\"sk-estimator sk-toggleable\"><input class=\"sk-toggleable__control sk-hidden--visually\" id=\"sk-estimator-id-3\" type=\"checkbox\" ><label for=\"sk-estimator-id-3\" class=\"sk-toggleable__label sk-toggleable__label-arrow\">LogisticRegression</label><div class=\"sk-toggleable__content\"><pre>LogisticRegression()</pre></div></div></div></div></div></div></div>"
      ],
      "text/plain": [
       "Pipeline(steps=[('tfidf', TfidfVectorizer()),\n",
       "                ('logreg_clf', LogisticRegression())])"
      ]
     },
     "execution_count": 13,
     "metadata": {},
     "output_type": "execute_result"
    }
   ],
   "source": [
    "logreg_ppl_clf.fit(X_train, y_train)"
   ]
  },
  {
   "cell_type": "code",
   "execution_count": 14,
   "id": "c3b49640",
   "metadata": {},
   "outputs": [
    {
     "name": "stdout",
     "output_type": "stream",
     "text": [
      "                                precision    recall  f1-score   support\n",
      "\n",
      "      Подключение коммуникаций       0.83      0.87      0.85     35179\n",
      "Проектно-изыскательские работы       0.94      0.96      0.95     21350\n",
      "                        Прочие       0.96      0.94      0.95    106499\n",
      "  Строительно-монтажные работы       0.88      0.87      0.88     61104\n",
      "\n",
      "                      accuracy                           0.91    224132\n",
      "                     macro avg       0.90      0.91      0.90    224132\n",
      "                  weighted avg       0.91      0.91      0.91    224132\n",
      "\n"
     ]
    }
   ],
   "source": [
    "predicted_logreg_ppl = logreg_ppl_clf.predict(X_test)\n",
    "print(metrics.classification_report(predicted_logreg_ppl, y_test))"
   ]
  },
  {
   "cell_type": "code",
   "execution_count": 15,
   "id": "2d34f898",
   "metadata": {},
   "outputs": [
    {
     "data": {
      "text/plain": [
       "0.9125203005371835"
      ]
     },
     "execution_count": 15,
     "metadata": {},
     "output_type": "execute_result"
    }
   ],
   "source": [
    "metrics.accuracy_score(y_test, predicted_logreg_ppl)"
   ]
  },
  {
   "cell_type": "code",
   "execution_count": 16,
   "id": "886977f6",
   "metadata": {},
   "outputs": [
    {
     "data": {
      "image/png": "[encoded data removed]",
      "text/plain": [
       "<Figure size 640x480 with 2 Axes>"
      ]
     },
     "metadata": {},
     "output_type": "display_data"
    }
   ],
   "source": [
    "cm = confusion_matrix(y_test, predicted_logreg_ppl, normalize='all')\n",
    "\n",
    "ConfusionMatrixDisplay(cm).plot()\n",
    "plt.show()"
   ]
  },
  {
   "cell_type": "code",
   "execution_count": 17,
   "id": "bee77ecb",
   "metadata": {},
   "outputs": [
    {
     "data": {
      "text/plain": [
       "{'logreg_clf__C': array([1.e-03, 1.e+00, 1.e+03]),\n",
       " 'logreg_clf__penalty': ['l1', 'l2']}"
      ]
     },
     "execution_count": 17,
     "metadata": {},
     "output_type": "execute_result"
    }
   ],
   "source": [
    "grid = {\n",
    "    'logreg_clf__C': np.logspace(-3, 3, 3),\n",
    "    'logreg_clf__penalty': ['l1', 'l2']\n",
    "}\n",
    "grid"
   ]
  },
  {
   "cell_type": "code",
   "execution_count": 18,
   "id": "66b48c4d",
   "metadata": {},
   "outputs": [
    {
     "name": "stdout",
     "output_type": "stream",
     "text": [
      "Duration: 0:15:38.164796\n"
     ]
    }
   ],
   "source": [
    "from datetime import datetime\n",
    "start_time = datetime.now()\n",
    "search = GridSearchCV(logreg_ppl_clf, grid, cv=10)\n",
    "search.fit(X_train, y_train)\n",
    "end_time = datetime.now()\n",
    "print('Duration: {}'.format(end_time - start_time))"
   ]
  },
  {
   "cell_type": "code",
   "execution_count": 19,
   "id": "c0bc4938",
   "metadata": {},
   "outputs": [
    {
     "name": "stdout",
     "output_type": "stream",
     "text": [
      "Best grid search hyperparameters are: {'logreg_clf__C': 1.0, 'logreg_clf__penalty': 'l2'}\n",
      "Best grid search score is: 0.9117957606479605\n"
     ]
    }
   ],
   "source": [
    "print('Best grid search hyperparameters are: '+str(search.best_params_))\n",
    "print('Best grid search score is: '+str(search.best_score_))"
   ]
  },
  {
   "cell_type": "markdown",
   "id": "024c4f6a",
   "metadata": {},
   "source": [
    "### Случайный лес"
   ]
  },
  {
   "cell_type": "code",
   "execution_count": 12,
   "id": "34acd93a",
   "metadata": {},
   "outputs": [],
   "source": [
    "from sklearn.ensemble import RandomForestClassifier"
   ]
  },
  {
   "cell_type": "code",
   "execution_count": 13,
   "id": "8b90123a",
   "metadata": {},
   "outputs": [],
   "source": [
    "randfor_ppl_clf = Pipeline([\n",
    "    ('tfidf', TfidfVectorizer()),\n",
    "    ('randfor_clf', RandomForestClassifier(random_state=42, n_jobs=-1))])"
   ]
  },
  {
   "cell_type": "code",
   "execution_count": 23,
   "id": "337836f4",
   "metadata": {},
   "outputs": [
    {
     "name": "stdout",
     "output_type": "stream",
     "text": [
      "Duration: 0:44:23.526443\n"
     ]
    }
   ],
   "source": [
    "from datetime import datetime\n",
    "start_time = datetime.now()\n",
    "randfor_ppl_clf.fit(X_train, y_train)\n",
    "end_time = datetime.now()\n",
    "print('Duration: {}'.format(end_time - start_time))"
   ]
  },
  {
   "cell_type": "code",
   "execution_count": 24,
   "id": "307ccba2",
   "metadata": {},
   "outputs": [
    {
     "name": "stdout",
     "output_type": "stream",
     "text": [
      "                                precision    recall  f1-score   support\n",
      "\n",
      "      Подключение коммуникаций       0.87      0.89      0.88     35843\n",
      "Проектно-изыскательские работы       0.95      0.97      0.96     21505\n",
      "                        Прочие       0.97      0.96      0.97    106332\n",
      "  Строительно-монтажные работы       0.90      0.91      0.91     60452\n",
      "\n",
      "                      accuracy                           0.94    224132\n",
      "                     macro avg       0.92      0.93      0.93    224132\n",
      "                  weighted avg       0.94      0.94      0.94    224132\n",
      "\n",
      "Duration: 0:00:12.214546\n"
     ]
    }
   ],
   "source": [
    "from datetime import datetime\n",
    "start_time = datetime.now()\n",
    "predicted_randfor_ppl = randfor_ppl_clf.predict(X_test)\n",
    "print(metrics.classification_report(predicted_randfor_ppl, y_test))\n",
    "end_time = datetime.now()\n",
    "print('Duration: {}'.format(end_time - start_time))"
   ]
  },
  {
   "cell_type": "code",
   "execution_count": 25,
   "id": "60560a46",
   "metadata": {},
   "outputs": [
    {
     "data": {
      "text/plain": [
       "0.9350962825477843"
      ]
     },
     "execution_count": 25,
     "metadata": {},
     "output_type": "execute_result"
    }
   ],
   "source": [
    "metrics.accuracy_score(y_test, predicted_randfor_ppl)"
   ]
  },
  {
   "cell_type": "code",
   "execution_count": 14,
   "id": "f7f5d681",
   "metadata": {},
   "outputs": [
    {
     "data": {
      "text/plain": [
       "{'randfor_clf__max_depth': [3, 5, 10, None],\n",
       " 'randfor_clf__n_estimators': [10, 100, 200],\n",
       " 'randfor_clf__max_features': [1, 3, 5, 7],\n",
       " 'randfor_clf__min_samples_leaf': [1, 2, 3],\n",
       " 'randfor_clf__min_samples_split': [1, 2, 3]}"
      ]
     },
     "execution_count": 14,
     "metadata": {},
     "output_type": "execute_result"
    }
   ],
   "source": [
    "grid_randfor={'randfor_clf__max_depth':[3,5,10,None],\n",
    "              'randfor_clf__n_estimators':[10,100,200],\n",
    "              'randfor_clf__max_features':[1,3,5,7],\n",
    "              'randfor_clf__min_samples_leaf':[1,2,3],\n",
    "              'randfor_clf__min_samples_split':[1,2,3]\n",
    "           }\n",
    "grid_randfor"
   ]
  },
  {
   "cell_type": "code",
   "execution_count": null,
   "id": "505f8307",
   "metadata": {},
   "outputs": [],
   "source": [
    "from datetime import datetime\n",
    "start_time = datetime.now()\n",
    "search_randfor = GridSearchCV(randfor_ppl_clf, grid_randfor,cv=3)\n",
    "search_randfor.fit(X_train, y_train)\n",
    "end_time = datetime.now()\n",
    "print('Duration: {}'.format(end_time - start_time))"
   ]
  },
  {
   "cell_type": "markdown",
   "id": "e0b8f30f",
   "metadata": {},
   "source": [
    "### Метод k ближайших соседей"
   ]
  },
  {
   "cell_type": "code",
   "execution_count": 9,
   "id": "5b63fd59",
   "metadata": {},
   "outputs": [],
   "source": [
    "from sklearn.neighbors import KNeighborsClassifier"
   ]
  },
  {
   "cell_type": "code",
   "execution_count": 20,
   "id": "f0955df0",
   "metadata": {},
   "outputs": [],
   "source": [
    "knb_ppl_clf = Pipeline([\n",
    "    ('tfidf', TfidfVectorizer()),\n",
    "    ('knb_clf', KNeighborsClassifier(n_neighbors=10))])"
   ]
  },
  {
   "cell_type": "code",
   "execution_count": 21,
   "id": "52b094a1",
   "metadata": {},
   "outputs": [
    {
     "data": {
      "text/html": [
       "<style>#sk-container-id-1 {color: black;background-color: white;}#sk-container-id-1 pre{padding: 0;}#sk-container-id-1 div.sk-toggleable {background-color: white;}#sk-container-id-1 label.sk-toggleable__label {cursor: pointer;display: block;width: 100%;margin-bottom: 0;padding: 0.3em;box-sizing: border-box;text-align: center;}#sk-container-id-1 label.sk-toggleable__label-arrow:before {content: \"▸\";float: left;margin-right: 0.25em;color: #696969;}#sk-container-id-1 label.sk-toggleable__label-arrow:hover:before {color: black;}#sk-container-id-1 div.sk-estimator:hover label.sk-toggleable__label-arrow:before {color: black;}#sk-container-id-1 div.sk-toggleable__content {max-height: 0;max-width: 0;overflow: hidden;text-align: left;background-color: #f0f8ff;}#sk-container-id-1 div.sk-toggleable__content pre {margin: 0.2em;color: black;border-radius: 0.25em;background-color: #f0f8ff;}#sk-container-id-1 input.sk-toggleable__control:checked~div.sk-toggleable__content {max-height: 200px;max-width: 100%;overflow: auto;}#sk-container-id-1 input.sk-toggleable__control:checked~label.sk-toggleable__label-arrow:before {content: \"▾\";}#sk-container-id-1 div.sk-estimator input.sk-toggleable__control:checked~label.sk-toggleable__label {background-color: #d4ebff;}#sk-container-id-1 div.sk-label input.sk-toggleable__control:checked~label.sk-toggleable__label {background-color: #d4ebff;}#sk-container-id-1 input.sk-hidden--visually {border: 0;clip: rect(1px 1px 1px 1px);clip: rect(1px, 1px, 1px, 1px);height: 1px;margin: -1px;overflow: hidden;padding: 0;position: absolute;width: 1px;}#sk-container-id-1 div.sk-estimator {font-family: monospace;background-color: #f0f8ff;border: 1px dotted black;border-radius: 0.25em;box-sizing: border-box;margin-bottom: 0.5em;}#sk-container-id-1 div.sk-estimator:hover {background-color: #d4ebff;}#sk-container-id-1 div.sk-parallel-item::after {content: \"\";width: 100%;border-bottom: 1px solid gray;flex-grow: 1;}#sk-container-id-1 div.sk-label:hover label.sk-toggleable__label {background-color: #d4ebff;}#sk-container-id-1 div.sk-serial::before {content: \"\";position: absolute;border-left: 1px solid gray;box-sizing: border-box;top: 0;bottom: 0;left: 50%;z-index: 0;}#sk-container-id-1 div.sk-serial {display: flex;flex-direction: column;align-items: center;background-color: white;padding-right: 0.2em;padding-left: 0.2em;position: relative;}#sk-container-id-1 div.sk-item {position: relative;z-index: 1;}#sk-container-id-1 div.sk-parallel {display: flex;align-items: stretch;justify-content: center;background-color: white;position: relative;}#sk-container-id-1 div.sk-item::before, #sk-container-id-1 div.sk-parallel-item::before {content: \"\";position: absolute;border-left: 1px solid gray;box-sizing: border-box;top: 0;bottom: 0;left: 50%;z-index: -1;}#sk-container-id-1 div.sk-parallel-item {display: flex;flex-direction: column;z-index: 1;position: relative;background-color: white;}#sk-container-id-1 div.sk-parallel-item:first-child::after {align-self: flex-end;width: 50%;}#sk-container-id-1 div.sk-parallel-item:last-child::after {align-self: flex-start;width: 50%;}#sk-container-id-1 div.sk-parallel-item:only-child::after {width: 0;}#sk-container-id-1 div.sk-dashed-wrapped {border: 1px dashed gray;margin: 0 0.4em 0.5em 0.4em;box-sizing: border-box;padding-bottom: 0.4em;background-color: white;}#sk-container-id-1 div.sk-label label {font-family: monospace;font-weight: bold;display: inline-block;line-height: 1.2em;}#sk-container-id-1 div.sk-label-container {text-align: center;}#sk-container-id-1 div.sk-container {/* jupyter's `normalize.less` sets `[hidden] { display: none; }` but bootstrap.min.css set `[hidden] { display: none !important; }` so we also need the `!important` here to be able to override the default hidden behavior on the sphinx rendered scikit-learn.org. See: https://github.com/scikit-learn/scikit-learn/issues/21755 */display: inline-block !important;position: relative;}#sk-container-id-1 div.sk-text-repr-fallback {display: none;}</style><div id=\"sk-container-id-1\" class=\"sk-top-container\"><div class=\"sk-text-repr-fallback\"><pre>Pipeline(steps=[(&#x27;tfidf&#x27;, TfidfVectorizer()),\n",
       "                (&#x27;knb_clf&#x27;, KNeighborsClassifier(n_neighbors=10))])</pre><b>In a Jupyter environment, please rerun this cell to show the HTML representation or trust the notebook. <br />On GitHub, the HTML representation is unable to render, please try loading this page with nbviewer.org.</b></div><div class=\"sk-container\" hidden><div class=\"sk-item sk-dashed-wrapped\"><div class=\"sk-label-container\"><div class=\"sk-label sk-toggleable\"><input class=\"sk-toggleable__control sk-hidden--visually\" id=\"sk-estimator-id-1\" type=\"checkbox\" ><label for=\"sk-estimator-id-1\" class=\"sk-toggleable__label sk-toggleable__label-arrow\">Pipeline</label><div class=\"sk-toggleable__content\"><pre>Pipeline(steps=[(&#x27;tfidf&#x27;, TfidfVectorizer()),\n",
       "                (&#x27;knb_clf&#x27;, KNeighborsClassifier(n_neighbors=10))])</pre></div></div></div><div class=\"sk-serial\"><div class=\"sk-item\"><div class=\"sk-estimator sk-toggleable\"><input class=\"sk-toggleable__control sk-hidden--visually\" id=\"sk-estimator-id-2\" type=\"checkbox\" ><label for=\"sk-estimator-id-2\" class=\"sk-toggleable__label sk-toggleable__label-arrow\">TfidfVectorizer</label><div class=\"sk-toggleable__content\"><pre>TfidfVectorizer()</pre></div></div></div><div class=\"sk-item\"><div class=\"sk-estimator sk-toggleable\"><input class=\"sk-toggleable__control sk-hidden--visually\" id=\"sk-estimator-id-3\" type=\"checkbox\" ><label for=\"sk-estimator-id-3\" class=\"sk-toggleable__label sk-toggleable__label-arrow\">KNeighborsClassifier</label><div class=\"sk-toggleable__content\"><pre>KNeighborsClassifier(n_neighbors=10)</pre></div></div></div></div></div></div></div>"
      ],
      "text/plain": [
       "Pipeline(steps=[('tfidf', TfidfVectorizer()),\n",
       "                ('knb_clf', KNeighborsClassifier(n_neighbors=10))])"
      ]
     },
     "execution_count": 21,
     "metadata": {},
     "output_type": "execute_result"
    }
   ],
   "source": [
    "knb_ppl_clf.fit(X_train, y_train)"
   ]
  },
  {
   "cell_type": "code",
   "execution_count": 38,
   "id": "4569e428",
   "metadata": {},
   "outputs": [
    {
     "name": "stdout",
     "output_type": "stream",
     "text": [
      "                                precision    recall  f1-score   support\n",
      "\n",
      "      Подключение коммуникаций       0.70      0.81      0.75     31529\n",
      "Проектно-изыскательские работы       0.75      0.90      0.82     18158\n",
      "                        Прочие       0.94      0.86      0.90    114768\n",
      "  Строительно-монтажные работы       0.80      0.82      0.81     59677\n",
      "\n",
      "                      accuracy                           0.84    224132\n",
      "                     macro avg       0.80      0.85      0.82    224132\n",
      "                  weighted avg       0.85      0.84      0.85    224132\n",
      "\n"
     ]
    }
   ],
   "source": [
    "predicted_knb_ppl = knb_ppl_clf.predict(X_test)\n",
    "print(metrics.classification_report(predicted_knb_ppl, y_test))"
   ]
  },
  {
   "cell_type": "code",
   "execution_count": 39,
   "id": "baa31737",
   "metadata": {},
   "outputs": [
    {
     "data": {
      "text/plain": [
       "0.8435787839308979"
      ]
     },
     "execution_count": 39,
     "metadata": {},
     "output_type": "execute_result"
    }
   ],
   "source": [
    "metrics.accuracy_score(y_test, predicted_knb_ppl)"
   ]
  },
  {
   "cell_type": "markdown",
   "id": "ba100f1d",
   "metadata": {},
   "source": [
    "Выводы:\n",
    "\n",
    "В ходе проведения исследования была проведена классификация контрактов по группам ОКПД алгоритмами логистической регрессии, \"случайного леса\" и k ближайших соседей.\n",
    "\n",
    "Для модели логистической регрессии проводился подбор оптимальных гиперпараметров с помощью GridSearchCV.\n",
    "\n",
    "Учитывая, что мы опирались на гипотезу о правильности расстановки кодов ОКПД для определения разметки данных, а это с большой вероятностью не всегда так, необходимо уточнить информацию по разметке у заказчика и повторить исследование с правильной разметкой.\n",
    "\n",
    "В результате лучше всего себя показал классификатор \"случайный лес\" с точностью  0,94."
   ]
  }
 ],
 "metadata": {
  "kernelspec": {
   "display_name": "Python 3 (ipykernel)",
   "language": "python",
   "name": "python3"
  },
  "language_info": {
   "codemirror_mode": {
    "name": "ipython",
    "version": 3
   },
   "file_extension": ".py",
   "mimetype": "text/x-python",
   "name": "python",
   "nbconvert_exporter": "python",
   "pygments_lexer": "ipython3",
   "version": "3.9.13"
  }
 },
 "nbformat": 4,
 "nbformat_minor": 5
}
